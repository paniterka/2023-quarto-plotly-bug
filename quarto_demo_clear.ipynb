{
 "cells": [
  {
   "cell_type": "raw",
   "metadata": {},
   "source": [
    "---\n",
    "title: A beautiful report\n",
    "subtitle: With a plotly bug\n",
    "toc: true\n",
    "format:\n",
    "  html:\n",
    "    code-fold: false\n",
    "    echo: true\n",
    "    self-contained: true\n",
    "execute:\n",
    "  enabled: true\n",
    "jupyter: quarto39\n",
    "---"
   ]
  },
  {
   "cell_type": "code",
   "execution_count": null,
   "metadata": {},
   "outputs": [],
   "source": [
    "import matplotlib.pyplot as plt \n",
    "import plotly.graph_objects as go \n",
    "import pandas as pd \n",
    "import seaborn as sns"
   ]
  },
  {
   "cell_type": "code",
   "execution_count": null,
   "metadata": {},
   "outputs": [],
   "source": [
    "import plotly as pl\n",
    "print(pl.__version__)"
   ]
  },
  {
   "cell_type": "code",
   "execution_count": null,
   "metadata": {},
   "outputs": [],
   "source": [
    "# without including this, the plotly charts will not render correctly! \n",
    "# cf. https://quarto.org/docs/interactive/widgets/jupyter.html \n",
    "# and https://plotly.com/python/renderers/#setting-the-default-renderer \n",
    "import plotly.io as pio\n",
    "\n",
    "pio.renderers.default = \"notebook\"\n",
    "\n",
    "# NOTE: as of April 2023, Quarto+Jupyter only works correctly ipynb notebooks created using an environment with plotly<=5.11\n",
    "# if you use plotly>=5.12 in your venv, Plotly charts will not render in quarto documents, \n",
    "# producing error \"plotly.js not found\" and the output may be cropped \n",
    "# tbd: submit an issue to Quarto "
   ]
  },
  {
   "cell_type": "markdown",
   "metadata": {},
   "source": [
    "Load data: "
   ]
  },
  {
   "cell_type": "code",
   "execution_count": null,
   "metadata": {},
   "outputs": [],
   "source": [
    "data = sns.load_dataset('penguins')\n",
    "\n",
    "data_agg = data.groupby(['species','island','sex'])['body_mass_g'].count().rename('count').reset_index()\n",
    "data_agg2 = data_agg.groupby('species')['count'].sum().reset_index()"
   ]
  },
  {
   "cell_type": "markdown",
   "metadata": {},
   "source": [
    "## Plotly"
   ]
  },
  {
   "cell_type": "markdown",
   "metadata": {},
   "source": [
    "Let's make a plotly chart. This will be @fig-plotly-penguincounts. "
   ]
  },
  {
   "cell_type": "code",
   "execution_count": null,
   "metadata": {},
   "outputs": [],
   "source": [
    "datatrace = {\n",
    "    'type': 'bar', \n",
    "    'x': data_agg2['species'], \n",
    "    'y': data_agg2['count']\n",
    "}\n",
    "\n",
    "layout = {\n",
    "    'title': {'text': 'Penguin counts', 'x': 0.5}, \n",
    "    'margin': {'t': 80, 'b': 20, 'r': 20, 'l': 20}, \n",
    "    'height': 250, \n",
    "    'width': 300,\n",
    "    'modebar': {        'orientation': 'h',}\n",
    "}\n",
    "\n",
    "figdict = {'data': datatrace, \n",
    "          'layout': layout}\n",
    "fp = go.Figure(**figdict)"
   ]
  },
  {
   "cell_type": "code",
   "execution_count": null,
   "metadata": {},
   "outputs": [],
   "source": [
    "#| label: fig-plotly-penguincounts\n",
    "#| fig-cap: The figure illustrates how many penguins in each species were measured. \n",
    "#| fig-align: right\n",
    "\n",
    "fp.show()\n",
    "\n"
   ]
  },
  {
   "cell_type": "markdown",
   "metadata": {},
   "source": [
    "## Matplotlib"
   ]
  },
  {
   "cell_type": "code",
   "execution_count": null,
   "metadata": {},
   "outputs": [],
   "source": [
    "#| label: fig-mpl-species\n",
    "#| fig-cap: Penguin sizes per species. \n",
    "#| fig-align: center\n",
    "\n",
    "\n",
    "f, ax = plt.subplots(figsize=(4,4))\n",
    "for sp in data['species'].unique():\n",
    "    tmp_data = data.query('species == @sp')\n",
    "    ax.scatter(x=tmp_data['flipper_length_mm'], y=tmp_data['body_mass_g'], label=sp)\n",
    "    \n",
    "ax.set_title('Penguin measurements');\n",
    "ax.set_ylabel('Body Mass [g]');\n",
    "ax.set_xlabel('Flipper Length [mm]');\n",
    "l = ax.legend(bbox_to_anchor=(0.0, 1.0), loc='upper left');\n",
    "l.set_frame_on(False)"
   ]
  },
  {
   "cell_type": "code",
   "execution_count": null,
   "metadata": {},
   "outputs": [],
   "source": []
  }
 ],
 "metadata": {
  "hide_input": false,
  "kernelspec": {
   "display_name": "quarto39",
   "language": "python",
   "name": "quarto39"
  },
  "language_info": {
   "codemirror_mode": {
    "name": "ipython",
    "version": 3
   },
   "file_extension": ".py",
   "mimetype": "text/x-python",
   "name": "python",
   "nbconvert_exporter": "python",
   "pygments_lexer": "ipython3",
   "version": "3.9.16"
  }
 },
 "nbformat": 4,
 "nbformat_minor": 4
}
